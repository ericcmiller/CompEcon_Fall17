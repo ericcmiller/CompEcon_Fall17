{
 "cells": [
  {
   "cell_type": "code",
   "execution_count": 17,
   "metadata": {},
   "outputs": [],
   "source": [
    "import numpy as np\n",
    "import scipy.optimize as opt\n",
    "import matplotlib.pyplot as plt"
   ]
  },
  {
   "cell_type": "code",
   "execution_count": 3,
   "metadata": {
    "collapsed": true
   },
   "outputs": [],
   "source": [
    "def avg_cost(x, *params):\n",
    "    '''\n",
    "    This function returns the average cost of x given the parameters\n",
    "    \n",
    "    Args:\n",
    "        x: scalar, input\n",
    "        params: tuple containing parameters\n",
    "        \n",
    "    Returns:\n",
    "        ac: scalar, the average cost of producing x units\n",
    "    '''\n",
    "    \n",
    "    a,b,c = params\n",
    "    ac = a * (x ** -1) + b + c * x\n",
    "    \n",
    "    return ac"
   ]
  },
  {
   "cell_type": "code",
   "execution_count": 14,
   "metadata": {},
   "outputs": [
    {
     "data": {
      "image/png": "[encoded data removed]",
      "text/plain": [
       "<matplotlib.figure.Figure at 0x1c8cffb1710>"
      ]
     },
     "metadata": {},
     "output_type": "display_data"
    }
   ],
   "source": [
    "p1,p2,p3 = 1,2,3\n",
    "params = (p1,p2,p3)\n",
    "\n",
    "grid = np.linspace(0.01,10,1000)\n",
    "plt.plot(grid,avg_cost(grid,*params))\n",
    "plt.show()"
   ]
  },
  {
   "cell_type": "code",
   "execution_count": 31,
   "metadata": {},
   "outputs": [
    {
     "name": "stdout",
     "output_type": "stream",
     "text": [
      "Local Minimum: 0.5773502641348067\n"
     ]
    }
   ],
   "source": [
    "results = opt.minimize_scalar(avg_cost, bracket = [0.01,2], args=params, method=\"Golden\", \n",
    "                              tol = 1e-15, options={'maxiter': 5000})\n",
    "\n",
    "print(\"Local Minimum:\",results.x)"
   ]
  },
  {
   "cell_type": "code",
   "execution_count": 38,
   "metadata": {},
   "outputs": [
    {
     "name": "stdout",
     "output_type": "stream",
     "text": [
      "Local Minimum: 0.57734375\n"
     ]
    }
   ],
   "source": [
    "x_min = opt.minimize(avg_cost,1,args=params,method='Nelder-Mead')\n",
    "print(\"Local Minimum:\",x_min.x[0])"
   ]
  },
  {
   "cell_type": "code",
   "execution_count": null,
   "metadata": {
    "collapsed": true
   },
   "outputs": [],
   "source": []
  }
 ],
 "metadata": {
  "kernelspec": {
   "display_name": "Python 3",
   "language": "python",
   "name": "python3"
  },
  "language_info": {
   "codemirror_mode": {
    "name": "ipython",
    "version": 3
   },
   "file_extension": ".py",
   "mimetype": "text/x-python",
   "name": "python",
   "nbconvert_exporter": "python",
   "pygments_lexer": "ipython3",
   "version": "3.6.1"
  }
 },
 "nbformat": 4,
 "nbformat_minor": 2
}
