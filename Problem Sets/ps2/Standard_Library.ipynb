{
 "cells": [
  {
   "cell_type": "code",
   "execution_count": 1,
   "metadata": {
    "collapsed": true
   },
   "outputs": [],
   "source": [
    "import numpy as np"
   ]
  },
  {
   "cell_type": "markdown",
   "metadata": {},
   "source": [
    "Question #1"
   ]
  },
  {
   "cell_type": "code",
   "execution_count": 2,
   "metadata": {},
   "outputs": [
    {
     "name": "stdout",
     "output_type": "stream",
     "text": [
      "[1, 5, 3.0]\n"
     ]
    }
   ],
   "source": [
    "list1 = list([1,2,3,4,5])\n",
    "def prob1(L):\n",
    "    return [min(L), max(L), sum([float(i) for i in list1]) / len(list1)]\n",
    "print(prob1(list1))"
   ]
  },
  {
   "cell_type": "markdown",
   "metadata": {},
   "source": [
    "Question #2"
   ]
  },
  {
   "cell_type": "code",
   "execution_count": 3,
   "metadata": {},
   "outputs": [
    {
     "name": "stdout",
     "output_type": "stream",
     "text": [
      "[False, False, True, False, True]\n"
     ]
    }
   ],
   "source": [
    "def prob2():\n",
    "    W1 = 0\n",
    "    W2 = W1\n",
    "    W2 += 1\n",
    "    v1 = bool(W1 == W2)\n",
    "\n",
    "    B1 = 'g'\n",
    "    B2 = B1\n",
    "    B2 = 'a'\n",
    "    v2 = bool(B1 == B2)\n",
    "\n",
    "    C1 = [0,2,3]\n",
    "    C2 = C1\n",
    "    C2.append(1)\n",
    "    v3 = bool(C1 == C2)\n",
    "\n",
    "    D1 = (0,2,3)\n",
    "    D2 = D1\n",
    "    D2 += (1,)\n",
    "    v4 = bool(D1 == D2)\n",
    "\n",
    "    E1 = {'x': 1, 'y':2}\n",
    "    E2 = E1\n",
    "    E2[1] = 'a'\n",
    "    v5 = bool(E1 == E2)\n",
    "    L = [v1,v2,v3,v4,v5]\n",
    "    return L\n",
    "\n",
    "print(prob2())"
   ]
  },
  {
   "cell_type": "markdown",
   "metadata": {},
   "source": [
    "Question #3"
   ]
  },
  {
   "cell_type": "code",
   "execution_count": 4,
   "metadata": {
    "collapsed": true
   },
   "outputs": [],
   "source": [
    "import calculator as calc"
   ]
  },
  {
   "cell_type": "code",
   "execution_count": 5,
   "metadata": {},
   "outputs": [
    {
     "name": "stdout",
     "output_type": "stream",
     "text": [
      "60.207972894\n"
     ]
    }
   ],
   "source": [
    "def prob3(a,b):\n",
    "    return calc.c_sqrt(calc.c_sum(calc.c_prod(a,a), calc.c_prod(b,b)))\n",
    "\n",
    "print(prob3(40,45))"
   ]
  },
  {
   "cell_type": "code",
   "execution_count": 0,
   "metadata": {
    "collapsed": true
   },
   "outputs": [],
   "source": []
  }
 ],
 "metadata": {
  "kernelspec": {
   "display_name": "Python 3",
   "language": "python",
   "name": "python3"
  },
  "language_info": {
   "codemirror_mode": {
    "name": "ipython",
    "version": 3
   },
   "file_extension": ".py",
   "mimetype": "text/x-python",
   "name": "python",
   "nbconvert_exporter": "python",
   "pygments_lexer": "ipython3",
   "version": "3.6.1"
  }
 },
 "nbformat": 4,
 "nbformat_minor": 1
}
