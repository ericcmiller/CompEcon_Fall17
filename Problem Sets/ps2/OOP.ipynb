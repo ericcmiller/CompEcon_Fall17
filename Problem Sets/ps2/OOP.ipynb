{
 "cells": [
  {
   "cell_type": "code",
   "execution_count": 21,
   "metadata": {
    "collapsed": true
   },
   "outputs": [],
   "source": [
    "import numpy as np\n",
    "\n",
    "class Backpack(object):\n",
    "    def __init__(self, name, color):\n",
    "        self.name = name\n",
    "        self.contents = []\n",
    "        self.color = color\n",
    "        self.max_size = 5\n",
    "        self.info = str(np.array([[\"Owner:   \", self.name],\n",
    "                              [\"Color:   \", self.color],\n",
    "                              [\"Size:    \", len(self.contents)],\n",
    "                              [\"Max Size:\", self.max_size],\n",
    "                              [\"Contents:\", self.contents]\n",
    "                              ]))\n",
    "\n",
    "    def put(self, item):\n",
    "        if len(self.contents) < self.max_size:\n",
    "            self.contents.append(item)\n",
    "        else:\n",
    "            print(\"No Room!\")\n",
    "\n",
    "    def take(self, item):\n",
    "        self.contents.remove(item)\n",
    "\n",
    "    def dump(self):\n",
    "        question = input(\"Are You Sure? [Y/N]\")\n",
    "        if question == 'Y':\n",
    "            self.contents = []\n",
    "\n",
    "    def __eq__(self, other):\n",
    "        return self.name == other.name and self.color == other.color and len(self.contents) == len(other.contents)\n",
    "\n",
    "    def __str__(self):\n",
    "        return self.info\n",
    "\n",
    "\n",
    "class Jetpack(Backpack):\n",
    "    def __init__(self, name, color):\n",
    "        Backpack.__init__(self, name, color)\n",
    "        self.max_size = 2\n",
    "        self.fuel = 10\n",
    "\n",
    "    def fly(self):\n",
    "        amountstr = input(\"How much fuel would you like to burn?\")\n",
    "        amount = int(amountstr)\n",
    "        if self.fuel - amount >= 0:\n",
    "            self.fuel = self.fuel - amount\n",
    "        else:\n",
    "            print(\"Not enough fuel!\")\n",
    "    def dump(self):\n",
    "        question = input(\"Are You Sure? [Y/N]\")\n",
    "        if question == 'Y':\n",
    "            self.contents = []\n",
    "            self.fuel = 0"
   ]
  },
  {
   "cell_type": "markdown",
   "metadata": {},
   "source": [
    "Question #1"
   ]
  },
  {
   "cell_type": "code",
   "execution_count": 22,
   "metadata": {
    "cocalc": {
     "outputs": {
      "1": {
       "name": "input",
       "opts": {
        "password": false,
        "prompt": "Are You Sure? [Y/N]"
       },
       "output_type": "stream",
       "value": "Y"
      }
     }
    }
   },
   "outputs": [
    {
     "name": "stdout",
     "output_type": "stream",
     "text": [
      "No Room!\n",
      "Backpack Contents: ['pen1', 'pen2', 'pen3', 'pen4', 'pen5']\n",
      "Are You Sure? [Y/N]N\n",
      "Backpack Contents: ['pen1', 'pen2', 'pen3', 'pen4', 'pen5']\n"
     ]
    }
   ],
   "source": [
    "backpack = Backpack('Eric', 'Blue')\n",
    "backpack.put(\"pen1\")\n",
    "backpack.put(\"pen2\")\n",
    "backpack.put(\"pen3\")\n",
    "backpack.put(\"pen4\")\n",
    "backpack.put(\"pen5\")\n",
    "backpack.put(\"pen6\")\n",
    "print(\"Backpack Contents:\",backpack.contents)\n",
    "backpack.dump()\n",
    "print(\"Backpack Contents:\",backpack.contents)"
   ]
  },
  {
   "cell_type": "markdown",
   "metadata": {},
   "source": [
    "Question #2"
   ]
  },
  {
   "cell_type": "code",
   "execution_count": 24,
   "metadata": {
    "cocalc": {
     "outputs": {
      "0": {
       "name": "input",
       "opts": {
        "password": false,
        "prompt": "How much fuel would you like to burn?"
       },
       "output_type": "stream",
       "value": "4"
      },
      "2": {
       "name": "input",
       "opts": {
        "password": false,
        "prompt": "Are You Sure? [Y/N]"
       },
       "output_type": "stream",
       "value": "Y"
      }
     }
    }
   },
   "outputs": [
    {
     "name": "stdout",
     "output_type": "stream",
     "text": [
      "How much fuel would you like to burn?3\n",
      "Current Fuel: 7\n",
      "Are You Sure? [Y/N]N\n",
      "Current Fuel: 7\n"
     ]
    }
   ],
   "source": [
    "jetpack = Jetpack('John', 'Brown')\n",
    "jetpack.fly()\n",
    "print(\"Current Fuel:\", jetpack.fuel)\n",
    "jetpack.dump()\n",
    "print(\"Current Fuel:\", jetpack.fuel)"
   ]
  },
  {
   "cell_type": "code",
   "execution_count": 0,
   "metadata": {
    "collapsed": true
   },
   "outputs": [],
   "source": []
  }
 ],
 "metadata": {
  "kernelspec": {
   "display_name": "Python 3",
   "language": "python",
   "name": "python3"
  },
  "language_info": {
   "codemirror_mode": {
    "name": "ipython",
    "version": 3
   },
   "file_extension": ".py",
   "mimetype": "text/x-python",
   "name": "python",
   "nbconvert_exporter": "python",
   "pygments_lexer": "ipython3",
   "version": "3.6.1"
  }
 },
 "nbformat": 4,
 "nbformat_minor": 1
}
