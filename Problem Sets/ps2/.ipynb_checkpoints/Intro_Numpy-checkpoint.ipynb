{
 "cells": [
  {
   "cell_type": "code",
   "execution_count": 1,
   "metadata": {},
   "outputs": [],
   "source": [
    "import numpy as np"
   ]
  },
  {
   "cell_type": "markdown",
   "metadata": {},
   "source": [
    "Question #1"
   ]
  },
  {
   "cell_type": "code",
   "execution_count": 2,
   "metadata": {},
   "outputs": [
    {
     "name": "stdout",
     "output_type": "stream",
     "text": [
      "[[ 37  14 -32 -10]\n",
      " [-54  -7  58  65]]\n"
     ]
    }
   ],
   "source": [
    "def prob1():\n",
    "    A = np.array([[3, -1, 4],\n",
    "                  [1, 5, -9]])\n",
    "    B = np.array([[2, 6, -5, 3],\n",
    "                  [5, -8, 9, 7],\n",
    "                  [9, -3, -2, -3]])\n",
    "    prod = np.dot(A,B)\n",
    "    return prod\n",
    "\n",
    "print(prob1())"
   ]
  },
  {
   "cell_type": "markdown",
   "metadata": {},
   "source": [
    "Question #2"
   ]
  },
  {
   "cell_type": "code",
   "execution_count": 3,
   "metadata": {},
   "outputs": [
    {
     "name": "stdout",
     "output_type": "stream",
     "text": [
      "[[0 0 0]\n",
      " [0 0 0]\n",
      " [0 0 0]]\n"
     ]
    }
   ],
   "source": [
    "def prob2():\n",
    "    A = np.array([[3, 1, 4],\n",
    "                  [1, 5, 9],\n",
    "                  [-5, 3, 1]])\n",
    "    P = np.dot(A,A)\n",
    "    Q = np.dot(A,P)\n",
    "    return -Q + 9*P - 15*A\n",
    "\n",
    "print(prob2())"
   ]
  },
  {
   "cell_type": "markdown",
   "metadata": {},
   "source": [
    "Question #5"
   ]
  },
  {
   "cell_type": "code",
   "execution_count": 4,
   "metadata": {},
   "outputs": [
    {
     "name": "stdout",
     "output_type": "stream",
     "text": [
      "[[ 0.  0.  0.  0.  3.  1.  0.  0.]\n",
      " [ 0.  0.  0.  1.  4.  0.  1.  0.]\n",
      " [ 0.  0.  0.  2.  5.  0.  0.  1.]\n",
      " [ 0.  1.  2.  0.  0.  0.  0.  0.]\n",
      " [ 3.  4.  5.  0.  0.  0.  0.  0.]\n",
      " [ 3.  0.  0.  0.  0. -2. -0. -0.]\n",
      " [ 3.  3.  0.  0.  0. -0. -2. -0.]\n",
      " [ 3.  3.  3.  0.  0. -0. -0. -2.]]\n"
     ]
    }
   ],
   "source": [
    "def prob5():\n",
    "    A = np.arange(6).reshape(2,3)\n",
    "    AT = A.transpose()\n",
    "    B = np.tril(3*np.ones((3,3)))\n",
    "    C = -2*np.eye(3)\n",
    "    I = np.identity(3)\n",
    "    Z33 = 0*np.eye(3)\n",
    "    Z22 = 0*np.eye(2)\n",
    "    Z23 = np.zeros_like(A)\n",
    "    Z32 = Z23.transpose()\n",
    "    k1 = np.vstack((Z33, A, B))\n",
    "    k2 = np.vstack((AT, Z22, Z32))\n",
    "    k3 = np.vstack((I, Z23, C))\n",
    "    K  = np.hstack((k1, k2, k3))\n",
    "    return K\n",
    "\n",
    "print(prob5())"
   ]
  }
 ],
 "metadata": {
  "kernelspec": {
   "display_name": "Python 3",
   "language": "python",
   "name": "python3"
  },
  "language_info": {
   "codemirror_mode": {
    "name": "ipython",
    "version": 3
   },
   "file_extension": ".py",
   "mimetype": "text/x-python",
   "name": "python",
   "nbconvert_exporter": "python",
   "pygments_lexer": "ipython3",
   "version": "3.6.1"
  }
 },
 "nbformat": 4,
 "nbformat_minor": 1
}
