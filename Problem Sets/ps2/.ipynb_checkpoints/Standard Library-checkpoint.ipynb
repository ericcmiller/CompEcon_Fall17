{
 "cells": [
  {
   "cell_type": "code",
   "execution_count": 1,
   "metadata": {},
   "outputs": [],
   "source": [
    "import numpy as np"
   ]
  },
  {
   "cell_type": "code",
   "execution_count": 2,
   "metadata": {},
   "outputs": [
    {
     "name": "stdout",
     "output_type": "stream",
     "text": [
      "[1, 5, 3.0]\n"
     ]
    }
   ],
   "source": [
    "list1 = list([1,2,3,4,5])\n",
    "def prob1(L):\n",
    "    return [min(L), max(L), sum([float(i) for i in list1]) / len(list1)]\n",
    "print prob1(list1)"
   ]
  },
  {
   "cell_type": "code",
   "execution_count": 3,
   "metadata": {},
   "outputs": [
    {
     "name": "stdout",
     "output_type": "stream",
     "text": [
      "[False, False, True, False, True]\n"
     ]
    }
   ],
   "source": [
    "def prob2():\n",
    "    W1 = 0\n",
    "    W2 = W1\n",
    "    W2 += 1\n",
    "    v1 = bool(W1 == W2)\n",
    "\n",
    "    B1 = 'g'\n",
    "    B2 = B1\n",
    "    B2 = 'a'\n",
    "    v2 = bool(B1 == B2)\n",
    "\n",
    "    C1 = [0,2,3]\n",
    "    C2 = C1\n",
    "    C2.append(1)\n",
    "    v3 = bool(C1 == C2)\n",
    "\n",
    "    D1 = (0,2,3)\n",
    "    D2 = D1\n",
    "    D2 += (1,)\n",
    "    v4 = bool(D1 == D2)\n",
    "\n",
    "    E1 = {'x': 1, 'y':2}\n",
    "    E2 = E1\n",
    "    E2[1] = 'a'\n",
    "    v5 = bool(E1 == E2)\n",
    "    L = [v1,v2,v3,v4,v5]\n",
    "    return L\n",
    "\n",
    "print(prob2())"
   ]
  },
  {
   "cell_type": "code",
   "execution_count": 5,
   "metadata": {},
   "outputs": [
    {
     "name": "stdout",
     "output_type": "stream",
     "text": [
      "60.207972894\n"
     ]
    }
   ],
   "source": [
    "import h1p3 as hp\n",
    "\n",
    "def prob3(a,b):\n",
    "    return hp.sqrtfunc(hp.sumfunc(hp.prodfunc(a,a), hp.prodfunc(b,b)))\n",
    "\n",
    "print prob3(40,45)"
   ]
  },
  {
   "cell_type": "code",
   "execution_count": 49,
   "metadata": {
    "cocalc": {
     "outputs": {
      "0": {
       "name": "input",
       "opts": {
        "password": false,
        "prompt": "What is Your Name? "
       },
       "output_type": "stream",
       "value": "Eric"
      },
      "10": {
       "name": "input",
       "opts": {
        "password": false,
        "prompt": "Choose one number from your draw: "
       },
       "output_type": "stream",
       "value": "5"
      },
      "2": {
       "name": "input",
       "opts": {
        "password": false,
        "prompt": "Choose one number from your draw: "
       },
       "output_type": "stream",
       "value": "7"
      },
      "3": {
       "name": "input",
       "opts": {
        "password": false,
        "prompt": "Choose one number from your draw: "
       },
       "output_type": "stream"
      },
      "5": {
       "name": "input",
       "opts": {
        "password": false,
        "prompt": "Choose one number from your draw: "
       },
       "output_type": "stream"
      },
      "7": {
       "name": "input",
       "opts": {
        "password": false,
        "prompt": "Choose one number from your draw: "
       },
       "output_type": "stream"
      }
     }
    }
   },
   "outputs": [
    {
     "name": "stdout",
     "output_type": "stream",
     "text": [
      "What is Your Name?  EricRemaining Numbers:  [1, 2, 3, 4, 5, 6, 7, 8, 9]\n",
      "Your Draw:  [6, 1, 7]\n",
      "Choose one number from your draw:  7Choose one number from your draw:  Remaining Numbers:  [1, 2, 3, 4, 5, 6, 8, 9]\n",
      "Your Draw:  [5, 3, 8]\n",
      "Choose one number from your draw:  Remaining Numbers:  [1, 2, 3, 4, 5, 6, 9]\n",
      "Your Draw:  [5, 4, 9]\n",
      "Choose one number from your draw:  Remaining Numbers:  [1, 2, 3, 4, 5, 6]\n",
      "Your Draw:  [4]\n",
      "Remaining Numbers:  [1, 2, 3, 5, 6]\n",
      "Your Draw:  [5]\n",
      "Choose one number from your draw:  5Remaining Numbers:  [1, 2, 3, 6]\n",
      "Your Draw:  []\n",
      " \n",
      "You Lose, Try Again.\n",
      "Eric Score:  5\n"
     ]
    }
   ],
   "source": [
    "import random as rd\n",
    "\n",
    "def prob4():\n",
    "    name = raw_input('What is Your Name? ')\n",
    "    numbers = list(range(1,10))\n",
    "    dice = list(range(1,7))\n",
    "    while len(numbers) > 0:\n",
    "        if max(numbers) < 7:\n",
    "            draw = rd.sample(dice,1)\n",
    "        else:\n",
    "            draw = rd.sample(dice,2)\n",
    "            draw.append(draw[0] + draw[1])\n",
    "        for i in draw:\n",
    "            if i > 9:\n",
    "                draw.remove(i)\n",
    "            if i not in numbers:\n",
    "                draw.remove(i)\n",
    "        print \"Remaining Numbers: \", numbers\n",
    "        print \"Your Draw: \", draw\n",
    "        if list(set(draw).intersection(set(numbers))) == []:\n",
    "            print \" \"\n",
    "            print \"You Lose, Try Again.\"\n",
    "            print name, \"Score: \", 9 - len(numbers)\n",
    "            return\n",
    "        c = 0\n",
    "        while c < 1:\n",
    "            pick = int(raw_input('Choose one number from your draw: '))\n",
    "            if pick in draw:\n",
    "                c = 2\n",
    "            else:\n",
    "                print \"Pick Not In Draw, Try Again\"\n",
    "        numbers.remove(pick)\n",
    "    print \"Congratulations, You Won!\"\n",
    "    return name\n",
    "\n",
    "prob4()"
   ]
  },
  {
   "cell_type": "code",
   "execution_count": 36,
   "metadata": {},
   "outputs": [
    {
     "data": {
      "text/plain": [
       "True"
      ]
     },
     "execution_count": 36,
     "metadata": {},
     "output_type": "execute_result"
    }
   ],
   "source": [
    "A = [1,2,3]\n",
    "B = 3\n",
    "\n",
    "B in A"
   ]
  },
  {
   "cell_type": "code",
   "execution_count": 0,
   "metadata": {},
   "outputs": [],
   "source": []
  }
 ],
 "metadata": {
  "kernelspec": {
   "display_name": "Python 3",
   "language": "python",
   "name": "python3"
  },
  "language_info": {
   "codemirror_mode": {
    "name": "ipython",
    "version": 3
   },
   "file_extension": ".py",
   "mimetype": "text/x-python",
   "name": "python",
   "nbconvert_exporter": "python",
   "pygments_lexer": "ipython3",
   "version": "3.6.1"
  }
 },
 "nbformat": 4,
 "nbformat_minor": 1
}
